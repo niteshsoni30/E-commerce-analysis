{
 "cells": [
  {
   "cell_type": "markdown",
   "id": "457e1b8a-3ba5-4d06-9ebf-78212cc6aa4d",
   "metadata": {},
   "source": [
    "**Data Integration and Optimization**"
   ]
  },
  {
   "cell_type": "code",
   "execution_count": 2,
   "id": "1e1b5fc4-e843-429c-a8dc-7d90837e7c34",
   "metadata": {
    "tags": []
   },
   "outputs": [
    {
     "name": "stderr",
     "output_type": "stream",
     "text": [
      "25/06/13 11:15:17 WARN SparkSession: Using an existing Spark session; only runtime SQL configurations will take effect.\n"
     ]
    }
   ],
   "source": [
    "from pyspark.sql import SparkSession\n",
    "\n",
    "spark = SparkSession.builder\\\n",
    ".appName(\"e-comm data integration and optimization\")\\\n",
    ".getOrCreate()"
   ]
  },
  {
   "cell_type": "code",
   "execution_count": 3,
   "id": "f63a4250-182c-4813-88a1-c4ae2714b7f0",
   "metadata": {
    "tags": []
   },
   "outputs": [
    {
     "data": {
      "text/html": [
       "\n",
       "            <div>\n",
       "                <p><b>SparkSession - hive</b></p>\n",
       "                \n",
       "        <div>\n",
       "            <p><b>SparkContext</b></p>\n",
       "\n",
       "            <p><a href=\"http://e-commerce-analysis-m.us-central1-a.c.logical-iridium-462512-d7.internal:40927\">Spark UI</a></p>\n",
       "\n",
       "            <dl>\n",
       "              <dt>Version</dt>\n",
       "                <dd><code>v3.5.3</code></dd>\n",
       "              <dt>Master</dt>\n",
       "                <dd><code>yarn</code></dd>\n",
       "              <dt>AppName</dt>\n",
       "                <dd><code>PySparkShell</code></dd>\n",
       "            </dl>\n",
       "        </div>\n",
       "        \n",
       "            </div>\n",
       "        "
      ],
      "text/plain": [
       "<pyspark.sql.session.SparkSession at 0x7f5dfc4ebd90>"
      ]
     },
     "execution_count": 3,
     "metadata": {},
     "output_type": "execute_result"
    }
   ],
   "source": [
    "spark"
   ]
  },
  {
   "cell_type": "code",
   "execution_count": 4,
   "id": "18452bd8-b6e6-4478-b167-cb22ca986c6e",
   "metadata": {
    "tags": []
   },
   "outputs": [],
   "source": [
    "hdfs_path = \"/data/olist/\""
   ]
  },
  {
   "cell_type": "code",
   "execution_count": 5,
   "id": "41e1327d-e7fa-4aec-a00f-9a1be8fffbf5",
   "metadata": {
    "tags": []
   },
   "outputs": [
    {
     "name": "stderr",
     "output_type": "stream",
     "text": [
      "                                                                                \r"
     ]
    }
   ],
   "source": [
    "customers_df = spark.read.csv(hdfs_path + \"olist_customers_dataset.csv\", header = True, inferSchema= True)"
   ]
  },
  {
   "cell_type": "code",
   "execution_count": 6,
   "id": "1e0dca68-964d-423a-82be-0a58a7cf964e",
   "metadata": {
    "tags": []
   },
   "outputs": [
    {
     "name": "stderr",
     "output_type": "stream",
     "text": [
      "                                                                                \r"
     ]
    }
   ],
   "source": [
    "product_category_df = spark.read.csv(hdfs_path + \"product_category_name_translation.csv\", header = True, inferSchema= True)\n",
    "geolocation_df = spark.read.csv(hdfs_path + \"olist_geolocation_dataset.csv\", header = True, inferSchema= True)\n",
    "order_items_df = spark.read.csv(hdfs_path + \"olist_order_items_dataset.csv\", header = True, inferSchema= True)\n",
    "payments_df = spark.read.csv(hdfs_path + \"olist_order_payments_dataset.csv\", header = True, inferSchema= True)\n",
    "reviews_df = spark.read.csv(hdfs_path + \"olist_order_reviews_dataset.csv\", header = True, inferSchema= True)\n",
    "orders_df = spark.read.csv(hdfs_path + \"olist_orders_dataset.csv\", header = True, inferSchema= True)\n",
    "sellers_df = spark.read.csv(hdfs_path + \"olist_sellers_dataset.csv\", header = True, inferSchema= True)\n",
    "products_df = spark.read.csv(hdfs_path + \"olist_products_dataset.csv\", header = True, inferSchema= True)"
   ]
  },
  {
   "cell_type": "code",
   "execution_count": 7,
   "id": "ed72fc55-82e1-4313-83bb-5d4c885c53c8",
   "metadata": {
    "tags": []
   },
   "outputs": [
    {
     "data": {
      "text/plain": [
       "DataFrame[order_id: string, order_item_id: int, product_id: string, seller_id: string, shipping_limit_date: timestamp, price: double, freight_value: double]"
      ]
     },
     "execution_count": 7,
     "metadata": {},
     "output_type": "execute_result"
    }
   ],
   "source": [
    "orders_df.cache()\n",
    "customers_df.cache()\n",
    "order_items_df.cache()"
   ]
  },
  {
   "cell_type": "code",
   "execution_count": 8,
   "id": "02b2b06f-e175-43d7-bc1b-965637b01f81",
   "metadata": {
    "tags": []
   },
   "outputs": [],
   "source": [
    "order_items_joined_df = orders_df.join(order_items_df,\"order_id\",\"inner\")"
   ]
  },
  {
   "cell_type": "code",
   "execution_count": 9,
   "id": "27023cec-fea7-4d0f-b385-964b9518435c",
   "metadata": {
    "tags": []
   },
   "outputs": [],
   "source": [
    "order_items_products_df = order_items_joined_df.join(products_df,\"product_id\",\"inner\") "
   ]
  },
  {
   "cell_type": "code",
   "execution_count": 10,
   "id": "f53eb644-d448-400d-8c08-1f21e631a96d",
   "metadata": {
    "tags": []
   },
   "outputs": [],
   "source": [
    "orders_items_product_seller_df = order_items_products_df.join(sellers_df,\"seller_id\",\"inner\")"
   ]
  },
  {
   "cell_type": "code",
   "execution_count": 11,
   "id": "4d1ba67a-225d-4247-92d5-0db7d3311630",
   "metadata": {
    "tags": []
   },
   "outputs": [],
   "source": [
    "full_orders_df = orders_items_product_seller_df.join(customers_df,\"customer_id\",\"inner\")"
   ]
  },
  {
   "cell_type": "code",
   "execution_count": 12,
   "id": "66ce4786-7f6f-4089-9207-c104aff3c433",
   "metadata": {
    "tags": []
   },
   "outputs": [
    {
     "name": "stderr",
     "output_type": "stream",
     "text": [
      "25/06/13 11:15:45 WARN SparkStringUtils: Truncated the string representation of a plan since it was too large. This behavior can be adjusted by setting 'spark.sql.debug.maxToStringFields'.\n",
      "[Stage 25:>                                                         (0 + 1) / 1]\r"
     ]
    },
    {
     "name": "stdout",
     "output_type": "stream",
     "text": [
      "+--------------------+--------------------+--------------------+--------------------+------------+------------------------+-------------------+----------------------------+-----------------------------+-----------------------------+-------------+-------------------+-----+-------------+---------------------+-------------------+--------------------------+------------------+----------------+-----------------+-----------------+----------------+----------------------+-------------+------------+--------------------+------------------------+--------------------+--------------+\n",
      "|         customer_id|           seller_id|          product_id|            order_id|order_status|order_purchase_timestamp|  order_approved_at|order_delivered_carrier_date|order_delivered_customer_date|order_estimated_delivery_date|order_item_id|shipping_limit_date|price|freight_value|product_category_name|product_name_lenght|product_description_lenght|product_photos_qty|product_weight_g|product_length_cm|product_height_cm|product_width_cm|seller_zip_code_prefix|  seller_city|seller_state|  customer_unique_id|customer_zip_code_prefix|       customer_city|customer_state|\n",
      "+--------------------+--------------------+--------------------+--------------------+------------+------------------------+-------------------+----------------------------+-----------------------------+-----------------------------+-------------+-------------------+-----+-------------+---------------------+-------------------+--------------------------+------------------+----------------+-----------------+-----------------+----------------+----------------------+-------------+------------+--------------------+------------------------+--------------------+--------------+\n",
      "|3ce436f183e68e078...|48436dade18ac8b2b...|4244733e06e7ecb49...|00010242fe8c5a6d1...|   delivered|     2017-09-13 08:59:02|2017-09-13 09:45:35|         2017-09-19 18:34:16|          2017-09-20 23:43:48|          2017-09-29 00:00:00|            1|2017-09-19 09:45:35| 58.9|        13.29|           cool_stuff|                 58|                       598|                 4|             650|               28|                9|              14|                 27277|volta redonda|          SP|871766c5855e863f6...|                   28013|campos dos goytac...|            RJ|\n",
      "|f6dd3ec061db4e398...|dd7ddc04e1b6c2c61...|e5f2d52b802189ee6...|00018f77f2f0320c5...|   delivered|     2017-04-26 10:53:06|2017-04-26 11:05:13|         2017-05-04 14:35:00|          2017-05-12 16:04:24|          2017-05-15 00:00:00|            1|2017-05-03 11:05:13|239.9|        19.93|             pet_shop|                 56|                       239|                 2|           30000|               50|               30|              40|                  3471|    sao paulo|          SP|eb28e67c4c0b83846...|                   15775|     santa fe do sul|            SP|\n",
      "|6489ae5e4333f3693...|5b51032eddd242adc...|c777355d18b72b67a...|000229ec398224ef6...|   delivered|     2018-01-14 14:33:31|2018-01-14 14:48:30|         2018-01-16 12:36:48|          2018-01-22 13:19:16|          2018-02-05 00:00:00|            1|2018-01-18 14:48:30|199.0|        17.87|     moveis_decoracao|                 59|                       695|                 2|            3050|               33|               13|              33|                 37564|borda da mata|          MG|3818d81c6709e39d0...|                   35661|       para de minas|            MG|\n",
      "|d4eb9395c8c0431ee...|9d7a1d34a50524090...|7634da152a4610f15...|00024acbcdf0a6daa...|   delivered|     2018-08-08 10:00:35|2018-08-08 10:10:18|         2018-08-10 13:28:00|          2018-08-14 13:32:39|          2018-08-20 00:00:00|            1|2018-08-15 10:10:18|12.99|        12.79|           perfumaria|                 42|                       480|                 1|             200|               16|               10|              15|                 14403|       franca|          SP|af861d436cfc08b2c...|                   12952|             atibaia|            SP|\n",
      "|58dbd0b2d70206bf4...|df560393f3a51e745...|ac6c3623068f30de0...|00042b26cf59d7ce6...|   delivered|     2017-02-04 13:57:51|2017-02-04 14:10:13|         2017-02-16 09:46:09|          2017-03-01 16:42:31|          2017-03-17 00:00:00|            1|2017-02-13 13:57:51|199.9|        18.14|   ferramentas_jardim|                 59|                       409|                 1|            3750|               35|               40|              30|                 87900|       loanda|          PR|64b576fb70d441e8f...|                   13226|     varzea paulista|            SP|\n",
      "+--------------------+--------------------+--------------------+--------------------+------------+------------------------+-------------------+----------------------------+-----------------------------+-----------------------------+-------------+-------------------+-----+-------------+---------------------+-------------------+--------------------------+------------------+----------------+-----------------+-----------------+----------------+----------------------+-------------+------------+--------------------+------------------------+--------------------+--------------+\n",
      "only showing top 5 rows\n",
      "\n"
     ]
    },
    {
     "name": "stderr",
     "output_type": "stream",
     "text": [
      "                                                                                \r"
     ]
    }
   ],
   "source": [
    "full_orders_df.show(5)"
   ]
  },
  {
   "cell_type": "code",
   "execution_count": 13,
   "id": "4e7eee7f-e889-441a-b247-fb5356120c3b",
   "metadata": {
    "tags": []
   },
   "outputs": [],
   "source": [
    "# Geolocation Data\n",
    "\n",
    "full_orders_df = full_orders_df.join(geolocation_df,full_orders_df.customer_zip_code_prefix == geolocation_df.geolocation_zip_code_prefix,\"left\")"
   ]
  },
  {
   "cell_type": "code",
   "execution_count": 14,
   "id": "5d6c39b2-c82d-4a52-87e1-bbd4fcd7a235",
   "metadata": {
    "tags": []
   },
   "outputs": [],
   "source": [
    "full_orders_df = full_orders_df.join(reviews_df,\"order_id\",\"left\")"
   ]
  },
  {
   "cell_type": "code",
   "execution_count": 15,
   "id": "6930ef8e-0a3f-492b-bdd5-5a7e2740eb10",
   "metadata": {
    "tags": []
   },
   "outputs": [],
   "source": [
    "full_orders_df = full_orders_df.join(payments_df,\"order_id\",\"left\")"
   ]
  },
  {
   "cell_type": "code",
   "execution_count": 16,
   "id": "be68e728-e685-4e7c-9403-fac37bc0a30e",
   "metadata": {
    "tags": []
   },
   "outputs": [
    {
     "data": {
      "text/plain": [
       "DataFrame[order_id: string, customer_id: string, seller_id: string, product_id: string, order_status: string, order_purchase_timestamp: timestamp, order_approved_at: timestamp, order_delivered_carrier_date: timestamp, order_delivered_customer_date: timestamp, order_estimated_delivery_date: timestamp, order_item_id: int, shipping_limit_date: timestamp, price: double, freight_value: double, product_category_name: string, product_name_lenght: int, product_description_lenght: int, product_photos_qty: int, product_weight_g: int, product_length_cm: int, product_height_cm: int, product_width_cm: int, seller_zip_code_prefix: int, seller_city: string, seller_state: string, customer_unique_id: string, customer_zip_code_prefix: int, customer_city: string, customer_state: string, geolocation_zip_code_prefix: int, geolocation_lat: double, geolocation_lng: double, geolocation_city: string, geolocation_state: string, review_id: string, review_score: string, review_comment_title: string, review_comment_message: string, review_creation_date: string, review_answer_timestamp: string, payment_sequential: int, payment_type: string, payment_installments: int, payment_value: double]"
      ]
     },
     "execution_count": 16,
     "metadata": {},
     "output_type": "execute_result"
    }
   ],
   "source": [
    "full_orders_df.cache()"
   ]
  },
  {
   "cell_type": "code",
   "execution_count": 17,
   "id": "73dfb4e4-55a7-4ff2-ba94-7ff2ea194b17",
   "metadata": {
    "tags": []
   },
   "outputs": [],
   "source": [
    "# Total Revenue per seller\n",
    "\n",
    "from pyspark.sql.functions import *\n",
    "\n",
    "seller_revenue_df = full_orders_df.groupBy(\"seller_id\").agg(sum(\"price\").alias(\"Total Revenue\"))"
   ]
  },
  {
   "cell_type": "code",
   "execution_count": 18,
   "id": "41e46699-2f05-46c9-8f28-7f77af376eaa",
   "metadata": {
    "tags": []
   },
   "outputs": [
    {
     "name": "stderr",
     "output_type": "stream",
     "text": [
      "[Stage 39:====================================================>(996 + 1) / 1000]\r"
     ]
    },
    {
     "name": "stdout",
     "output_type": "stream",
     "text": [
      "+--------------------+-------------------+\n",
      "|           seller_id|      Total Revenue|\n",
      "+--------------------+-------------------+\n",
      "|b76dba6c951ab00dc...| 302582.65999999904|\n",
      "|7a67c85e85bb2ce85...|2.031279489000003E7|\n",
      "|d2374cbcbb3ca4ab1...|  3375517.550000011|\n",
      "|c8b0e2b0a7095e5d8...| 1573840.0600000015|\n",
      "|994f04b3718c2bab3...|  661633.6000000022|\n",
      "+--------------------+-------------------+\n",
      "only showing top 5 rows\n",
      "\n"
     ]
    },
    {
     "name": "stderr",
     "output_type": "stream",
     "text": [
      "                                                                                \r"
     ]
    }
   ],
   "source": [
    "seller_revenue_df.show(5)"
   ]
  },
  {
   "cell_type": "code",
   "execution_count": 19,
   "id": "f97181c7-2fa9-4c97-adbd-000ea506e248",
   "metadata": {
    "tags": []
   },
   "outputs": [],
   "source": [
    "# Total Orders Per Customer\n",
    "\n",
    "Total_orders_per_customer = full_orders_df.groupBy(\"customer_id\").agg(count(\"order_id\").alias(\"total_orders\"))\n",
    "\n"
   ]
  },
  {
   "cell_type": "code",
   "execution_count": 20,
   "id": "f961fd99-c971-43a5-86fc-7e00b5b6b7ea",
   "metadata": {
    "tags": []
   },
   "outputs": [
    {
     "name": "stderr",
     "output_type": "stream",
     "text": [
      "[Stage 46:====================================================>(997 + 1) / 1000]\r"
     ]
    },
    {
     "name": "stdout",
     "output_type": "stream",
     "text": [
      "+--------------------+------------+\n",
      "|         customer_id|total_orders|\n",
      "+--------------------+------------+\n",
      "|f35e5fd801be940cb...|          65|\n",
      "+--------------------+------------+\n",
      "only showing top 1 row\n",
      "\n"
     ]
    },
    {
     "name": "stderr",
     "output_type": "stream",
     "text": [
      "                                                                                \r"
     ]
    }
   ],
   "source": [
    "Total_orders_per_customer.show(1)"
   ]
  },
  {
   "cell_type": "code",
   "execution_count": 21,
   "id": "9db8a1d6-8a76-45c2-8d38-046e41903c1f",
   "metadata": {
    "tags": []
   },
   "outputs": [],
   "source": [
    "# Average Review score per seller\n",
    "\n",
    "average_review_score_per_seller = full_orders_df.groupBy(\"seller_id\").agg(avg(\"review_score\").alias(\"seller average score\"))\n"
   ]
  },
  {
   "cell_type": "code",
   "execution_count": 22,
   "id": "00de0395-0406-4a52-9218-5097fd366c28",
   "metadata": {
    "tags": []
   },
   "outputs": [
    {
     "name": "stderr",
     "output_type": "stream",
     "text": [
      "[Stage 53:====================================================>(999 + 1) / 1000]\r"
     ]
    },
    {
     "name": "stdout",
     "output_type": "stream",
     "text": [
      "+--------------------+--------------------+\n",
      "|           seller_id|seller average score|\n",
      "+--------------------+--------------------+\n",
      "|7a67c85e85bb2ce85...|   4.258920734844587|\n",
      "+--------------------+--------------------+\n",
      "only showing top 1 row\n",
      "\n"
     ]
    },
    {
     "name": "stderr",
     "output_type": "stream",
     "text": [
      "                                                                                \r"
     ]
    }
   ],
   "source": [
    "average_review_score_per_seller.show(1)"
   ]
  },
  {
   "cell_type": "code",
   "execution_count": 23,
   "id": "c689941a-b831-4239-be66-4eedf5f23bea",
   "metadata": {
    "tags": []
   },
   "outputs": [],
   "source": [
    "# top customer by spending\n",
    "\n",
    "top_customer_by_spending = full_orders_df.groupBy(\"customer_id\").agg(sum(\"price\").alias(\"Total Sales\")).orderBy(\"Total Sales\",ascending= False)\n",
    "\n"
   ]
  },
  {
   "cell_type": "code",
   "execution_count": 24,
   "id": "bfdcd4ae-f9c7-4fec-98d5-81c4c6556be3",
   "metadata": {
    "tags": []
   },
   "outputs": [
    {
     "name": "stderr",
     "output_type": "stream",
     "text": [
      "[Stage 64:=============================>                            (2 + 2) / 4]\r"
     ]
    },
    {
     "name": "stdout",
     "output_type": "stream",
     "text": [
      "+--------------------+-----------+\n",
      "|         customer_id|Total Sales|\n",
      "+--------------------+-----------+\n",
      "|d3e82ccec3cb5f956...|  6662844.0|\n",
      "|df55c14d1476a9a34...|  3565657.0|\n",
      "|fe5113a38e3575c04...|  3293604.0|\n",
      "|ec5b2ba62e5743423...|  2556120.0|\n",
      "|63b964e79dee32a35...|  2501664.0|\n",
      "+--------------------+-----------+\n",
      "only showing top 5 rows\n",
      "\n"
     ]
    },
    {
     "name": "stderr",
     "output_type": "stream",
     "text": [
      "                                                                                \r"
     ]
    }
   ],
   "source": [
    "top_customer_by_spending.show(5)"
   ]
  },
  {
   "cell_type": "code",
   "execution_count": null,
   "id": "340ede2e-b83a-4440-bdbb-1ab05bf0fd55",
   "metadata": {},
   "outputs": [],
   "source": []
  },
  {
   "cell_type": "code",
   "execution_count": 25,
   "id": "28dae5c9-385c-4553-b5cf-551cb62a567c",
   "metadata": {
    "tags": []
   },
   "outputs": [
    {
     "name": "stdout",
     "output_type": "stream",
     "text": [
      "+--------------------+--------------------+--------------------+--------------------+------------+------------------------+-------------------+----------------------------+-----------------------------+-----------------------------+-------------+-------------------+-----+-------------+---------------------+-------------------+--------------------------+------------------+----------------+-----------------+-----------------+----------------+----------------------+-----------+------------+--------------------+------------------------+-------------+--------------+---------------------------+-------------------+------------------+----------------+-----------------+--------------------+------------+--------------------+----------------------+--------------------+-----------------------+------------------+------------+--------------------+-------------+\n",
      "|            order_id|         customer_id|           seller_id|          product_id|order_status|order_purchase_timestamp|  order_approved_at|order_delivered_carrier_date|order_delivered_customer_date|order_estimated_delivery_date|order_item_id|shipping_limit_date|price|freight_value|product_category_name|product_name_lenght|product_description_lenght|product_photos_qty|product_weight_g|product_length_cm|product_height_cm|product_width_cm|seller_zip_code_prefix|seller_city|seller_state|  customer_unique_id|customer_zip_code_prefix|customer_city|customer_state|geolocation_zip_code_prefix|    geolocation_lat|   geolocation_lng|geolocation_city|geolocation_state|           review_id|review_score|review_comment_title|review_comment_message|review_creation_date|review_answer_timestamp|payment_sequential|payment_type|payment_installments|payment_value|\n",
      "+--------------------+--------------------+--------------------+--------------------+------------+------------------------+-------------------+----------------------------+-----------------------------+-----------------------------+-------------+-------------------+-----+-------------+---------------------+-------------------+--------------------------+------------------+----------------+-----------------+-----------------+----------------+----------------------+-----------+------------+--------------------+------------------------+-------------+--------------+---------------------------+-------------------+------------------+----------------+-----------------+--------------------+------------+--------------------+----------------------+--------------------+-----------------------+------------------+------------+--------------------+-------------+\n",
      "|5128bbf180434cd93...|88b0bac2d79ffc975...|16090f2ca825584b5...|1613b819ab5dae53a...|   delivered|     2018-08-07 23:19:16|2018-08-07 23:35:13|         2018-08-10 14:52:00|          2018-08-13 22:21:43|          2018-08-10 00:00:00|            1|2018-08-09 23:31:19|28.99|         7.46|           automotivo|                 60|                       982|                 2|              50|               17|               10|              15|                 12940|    atibaia|          SP|ec90a3e080dbd0634...|                    2122|    sao paulo|            SP|                       2122|-23.513172191788303|-46.58263962184772|       sao paulo|               SP|fdda4f6ef4af55a3b...|           3|Ainda não chegou ...|  Espero que o prod...| 2018-08-12 00:00:00|    2018-08-13 12:44:02|                 1| credit_card|                   1|        36.45|\n",
      "+--------------------+--------------------+--------------------+--------------------+------------+------------------------+-------------------+----------------------------+-----------------------------+-----------------------------+-------------+-------------------+-----+-------------+---------------------+-------------------+--------------------------+------------------+----------------+-----------------+-----------------+----------------+----------------------+-----------+------------+--------------------+------------------------+-------------+--------------+---------------------------+-------------------+------------------+----------------+-----------------+--------------------+------------+--------------------+----------------------+--------------------+-----------------------+------------------+------------+--------------------+-------------+\n",
      "only showing top 1 row\n",
      "\n"
     ]
    }
   ],
   "source": [
    "full_orders_df.show(1)"
   ]
  },
  {
   "cell_type": "code",
   "execution_count": 26,
   "id": "c24f5925-4d71-4a09-ad45-06aebc08e27b",
   "metadata": {
    "tags": []
   },
   "outputs": [],
   "source": [
    "orders_items_product_seller_df = order_items_products_df.join(broadcast(sellers_df),\"seller_id\",\"inner\")"
   ]
  },
  {
   "cell_type": "code",
   "execution_count": 27,
   "id": "db042159-0cfd-44bb-b701-a7dd7d0a5bbc",
   "metadata": {
    "tags": []
   },
   "outputs": [],
   "source": [
    "#Top 10 Most sold products\n",
    "\n",
    "top_10_most_sold_products = full_orders_df.groupBy(\"product_id\").agg(count(\"order_id\").alias(\"Top_10_sold_products\")).orderBy(\"Top_10_sold_products\",ascending = False).limit(10)"
   ]
  },
  {
   "cell_type": "code",
   "execution_count": 28,
   "id": "58e9f6e6-20bc-4451-ae55-a2871363b5ee",
   "metadata": {
    "tags": []
   },
   "outputs": [
    {
     "name": "stderr",
     "output_type": "stream",
     "text": [
      "[Stage 70:====================================================>(999 + 1) / 1000]\r"
     ]
    },
    {
     "name": "stdout",
     "output_type": "stream",
     "text": [
      "+--------------------+--------------------+\n",
      "|          product_id|Top_10_sold_products|\n",
      "+--------------------+--------------------+\n",
      "|aca2eb7d00ea1a7b8...|               86740|\n",
      "|422879e10f4668299...|               81110|\n",
      "|99a4788cb24856965...|               78775|\n",
      "|389d119b48cf3043d...|               60248|\n",
      "|d1c427060a0f73f6b...|               59274|\n",
      "|368c6c730842d7801...|               58358|\n",
      "|53759a2ecddad2bb8...|               52654|\n",
      "|53b36df67ebb7c415...|               52105|\n",
      "|154e7e31ebfa09220...|               42700|\n",
      "|3dd2a17168ec895c7...|               40787|\n",
      "+--------------------+--------------------+\n",
      "\n"
     ]
    },
    {
     "name": "stderr",
     "output_type": "stream",
     "text": [
      "                                                                                \r"
     ]
    }
   ],
   "source": [
    "top_10_most_sold_products.show(10)"
   ]
  },
  {
   "cell_type": "code",
   "execution_count": 29,
   "id": "d0dfa01f-f422-4ac4-855a-d51b8146d955",
   "metadata": {
    "tags": []
   },
   "outputs": [
    {
     "ename": "NameError",
     "evalue": "name 'top_10' is not defined",
     "output_type": "error",
     "traceback": [
      "\u001b[0;31m---------------------------------------------------------------------------\u001b[0m",
      "\u001b[0;31mNameError\u001b[0m                                 Traceback (most recent call last)",
      "Cell \u001b[0;32mIn[29], line 3\u001b[0m\n\u001b[1;32m      1\u001b[0m \u001b[38;5;66;03m# Top 10 customers by spending\u001b[39;00m\n\u001b[0;32m----> 3\u001b[0m \u001b[43mtop_10\u001b[49m\n",
      "\u001b[0;31mNameError\u001b[0m: name 'top_10' is not defined"
     ]
    }
   ],
   "source": [
    "# Top 10 customers by spending\n",
    "\n",
    "top_10"
   ]
  },
  {
   "cell_type": "markdown",
   "id": "59ddb688-e321-408e-b055-ae954108d260",
   "metadata": {},
   "source": [
    "**window function and Ranking**"
   ]
  },
  {
   "cell_type": "code",
   "execution_count": null,
   "id": "624c4cec-b501-48fa-b213-e7231fc9b566",
   "metadata": {
    "tags": []
   },
   "outputs": [],
   "source": [
    "from pyspark.sql.window import Window"
   ]
  },
  {
   "cell_type": "code",
   "execution_count": null,
   "id": "38dcb13a-c3af-4bde-a115-656f25f17403",
   "metadata": {
    "tags": []
   },
   "outputs": [],
   "source": [
    "# Dense Rank for seller based on Revenue\n",
    "\n",
    "window_spec = Window.partitionBy(\"seller_id\").orderBy(desc(\"price\"))"
   ]
  },
  {
   "cell_type": "code",
   "execution_count": null,
   "id": "dbffbb80-0f2c-416e-9935-adbd30da3287",
   "metadata": {
    "tags": []
   },
   "outputs": [],
   "source": [
    "# Rank Top Selling Products per Seller\n",
    "\n",
    "top_seller_products_df = full_orders_df.withColumn(\"rank\",rank().over(window_spec)).filter(col(\"rank\")<=5)"
   ]
  },
  {
   "cell_type": "code",
   "execution_count": null,
   "id": "428983d8-8885-4b14-8b33-c6c454921a68",
   "metadata": {
    "tags": []
   },
   "outputs": [],
   "source": [
    "top_seller_products_df.select(\"seller_id\",\"price\",\"rank\").show(5)"
   ]
  },
  {
   "cell_type": "code",
   "execution_count": null,
   "id": "1f08eb5b-9d0c-4ae0-b149-711441f5379d",
   "metadata": {},
   "outputs": [],
   "source": []
  },
  {
   "cell_type": "code",
   "execution_count": null,
   "id": "d1e519cf-56c1-4117-9531-3d0a998dc728",
   "metadata": {},
   "outputs": [],
   "source": []
  },
  {
   "cell_type": "code",
   "execution_count": null,
   "id": "bc97fa17-6713-4dd5-ae66-9362507e97ba",
   "metadata": {},
   "outputs": [],
   "source": []
  }
 ],
 "metadata": {
  "kernelspec": {
   "display_name": "PySpark",
   "language": "python",
   "name": "pyspark"
  },
  "language_info": {
   "codemirror_mode": {
    "name": "ipython",
    "version": 3
   },
   "file_extension": ".py",
   "mimetype": "text/x-python",
   "name": "python",
   "nbconvert_exporter": "python",
   "pygments_lexer": "ipython3",
   "version": "3.11.8"
  }
 },
 "nbformat": 4,
 "nbformat_minor": 5
}
